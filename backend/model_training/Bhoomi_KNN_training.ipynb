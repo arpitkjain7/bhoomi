{
 "cells": [
  {
   "cell_type": "code",
   "execution_count": 1,
   "id": "f77066f0",
   "metadata": {
    "collapsed": true,
    "jupyter": {
     "outputs_hidden": true
    },
    "tags": []
   },
   "outputs": [
    {
     "name": "stdout",
     "output_type": "stream",
     "text": [
      "\u001b[33mDEPRECATION: Configuring installation scheme with distutils config files is deprecated and will no longer work in the near future. If you are using a Homebrew or Linuxbrew Python, please see discussion at https://github.com/Homebrew/homebrew-core/issues/76621\u001b[0m\n",
      "Requirement already satisfied: pandas in /usr/local/lib/python3.9/site-packages (1.4.0)\n",
      "Requirement already satisfied: python-dateutil>=2.8.1 in /usr/local/lib/python3.9/site-packages (from pandas) (2.8.1)\n",
      "Requirement already satisfied: pytz>=2020.1 in /usr/local/lib/python3.9/site-packages (from pandas) (2021.1)\n",
      "Requirement already satisfied: numpy>=1.18.5 in /usr/local/lib/python3.9/site-packages (from pandas) (1.21.4)\n",
      "Requirement already satisfied: six>=1.5 in /usr/local/lib/python3.9/site-packages (from python-dateutil>=2.8.1->pandas) (1.15.0)\n",
      "\u001b[33mWARNING: You are using pip version 21.3.1; however, version 22.0.3 is available.\n",
      "You should consider upgrading via the '/usr/local/opt/python@3.9/bin/python3.9 -m pip install --upgrade pip' command.\u001b[0m\n",
      "\u001b[33mDEPRECATION: Configuring installation scheme with distutils config files is deprecated and will no longer work in the near future. If you are using a Homebrew or Linuxbrew Python, please see discussion at https://github.com/Homebrew/homebrew-core/issues/76621\u001b[0m\n",
      "Requirement already satisfied: sklearn in /usr/local/lib/python3.9/site-packages (0.0)\n",
      "Requirement already satisfied: scikit-learn in /usr/local/lib/python3.9/site-packages (from sklearn) (1.0.2)\n",
      "Requirement already satisfied: threadpoolctl>=2.0.0 in /usr/local/lib/python3.9/site-packages (from scikit-learn->sklearn) (3.0.0)\n",
      "Requirement already satisfied: joblib>=0.11 in /usr/local/lib/python3.9/site-packages (from scikit-learn->sklearn) (1.1.0)\n",
      "Requirement already satisfied: scipy>=1.1.0 in /usr/local/lib/python3.9/site-packages (from scikit-learn->sklearn) (1.7.3)\n",
      "Requirement already satisfied: numpy>=1.14.6 in /usr/local/lib/python3.9/site-packages (from scikit-learn->sklearn) (1.21.4)\n",
      "\u001b[33mWARNING: You are using pip version 21.3.1; however, version 22.0.3 is available.\n",
      "You should consider upgrading via the '/usr/local/opt/python@3.9/bin/python3.9 -m pip install --upgrade pip' command.\u001b[0m\n",
      "\u001b[33mDEPRECATION: Configuring installation scheme with distutils config files is deprecated and will no longer work in the near future. If you are using a Homebrew or Linuxbrew Python, please see discussion at https://github.com/Homebrew/homebrew-core/issues/76621\u001b[0m\n",
      "Requirement already satisfied: seaborn in /usr/local/lib/python3.9/site-packages (0.11.2)\n",
      "Requirement already satisfied: numpy>=1.15 in /usr/local/lib/python3.9/site-packages (from seaborn) (1.21.4)\n",
      "Requirement already satisfied: pandas>=0.23 in /usr/local/lib/python3.9/site-packages (from seaborn) (1.4.0)\n",
      "Requirement already satisfied: matplotlib>=2.2 in /usr/local/lib/python3.9/site-packages (from seaborn) (3.5.1)\n",
      "Requirement already satisfied: scipy>=1.0 in /usr/local/lib/python3.9/site-packages (from seaborn) (1.7.3)\n",
      "Requirement already satisfied: fonttools>=4.22.0 in /usr/local/lib/python3.9/site-packages (from matplotlib>=2.2->seaborn) (4.29.0)\n",
      "Requirement already satisfied: python-dateutil>=2.7 in /usr/local/lib/python3.9/site-packages (from matplotlib>=2.2->seaborn) (2.8.1)\n",
      "Requirement already satisfied: pyparsing>=2.2.1 in /usr/local/lib/python3.9/site-packages (from matplotlib>=2.2->seaborn) (2.4.7)\n",
      "Requirement already satisfied: packaging>=20.0 in /usr/local/lib/python3.9/site-packages (from matplotlib>=2.2->seaborn) (21.3)\n",
      "Requirement already satisfied: kiwisolver>=1.0.1 in /usr/local/lib/python3.9/site-packages (from matplotlib>=2.2->seaborn) (1.3.2)\n",
      "Requirement already satisfied: pillow>=6.2.0 in /usr/local/lib/python3.9/site-packages (from matplotlib>=2.2->seaborn) (9.0.0)\n",
      "Requirement already satisfied: cycler>=0.10 in /usr/local/lib/python3.9/site-packages (from matplotlib>=2.2->seaborn) (0.11.0)\n",
      "Requirement already satisfied: pytz>=2020.1 in /usr/local/lib/python3.9/site-packages (from pandas>=0.23->seaborn) (2021.1)\n",
      "Requirement already satisfied: six>=1.5 in /usr/local/lib/python3.9/site-packages (from python-dateutil>=2.7->matplotlib>=2.2->seaborn) (1.15.0)\n",
      "\u001b[33mWARNING: You are using pip version 21.3.1; however, version 22.0.3 is available.\n",
      "You should consider upgrading via the '/usr/local/opt/python@3.9/bin/python3.9 -m pip install --upgrade pip' command.\u001b[0m\n",
      "\u001b[33mDEPRECATION: Configuring installation scheme with distutils config files is deprecated and will no longer work in the near future. If you are using a Homebrew or Linuxbrew Python, please see discussion at https://github.com/Homebrew/homebrew-core/issues/76621\u001b[0m\n",
      "Requirement already satisfied: mlxtend in /usr/local/lib/python3.9/site-packages (0.19.0)\n",
      "Requirement already satisfied: pandas>=0.24.2 in /usr/local/lib/python3.9/site-packages (from mlxtend) (1.4.0)\n",
      "Requirement already satisfied: numpy>=1.16.2 in /usr/local/lib/python3.9/site-packages (from mlxtend) (1.21.4)\n",
      "Requirement already satisfied: matplotlib>=3.0.0 in /usr/local/lib/python3.9/site-packages (from mlxtend) (3.5.1)\n",
      "Requirement already satisfied: scipy>=1.2.1 in /usr/local/lib/python3.9/site-packages (from mlxtend) (1.7.3)\n",
      "Requirement already satisfied: setuptools in /usr/local/lib/python3.9/site-packages (from mlxtend) (60.5.0)\n",
      "Requirement already satisfied: joblib>=0.13.2 in /usr/local/lib/python3.9/site-packages (from mlxtend) (1.1.0)\n",
      "Requirement already satisfied: scikit-learn>=0.20.3 in /usr/local/lib/python3.9/site-packages (from mlxtend) (1.0.2)\n",
      "Requirement already satisfied: python-dateutil>=2.7 in /usr/local/lib/python3.9/site-packages (from matplotlib>=3.0.0->mlxtend) (2.8.1)\n",
      "Requirement already satisfied: pyparsing>=2.2.1 in /usr/local/lib/python3.9/site-packages (from matplotlib>=3.0.0->mlxtend) (2.4.7)\n",
      "Requirement already satisfied: kiwisolver>=1.0.1 in /usr/local/lib/python3.9/site-packages (from matplotlib>=3.0.0->mlxtend) (1.3.2)\n",
      "Requirement already satisfied: cycler>=0.10 in /usr/local/lib/python3.9/site-packages (from matplotlib>=3.0.0->mlxtend) (0.11.0)\n",
      "Requirement already satisfied: pillow>=6.2.0 in /usr/local/lib/python3.9/site-packages (from matplotlib>=3.0.0->mlxtend) (9.0.0)\n",
      "Requirement already satisfied: packaging>=20.0 in /usr/local/lib/python3.9/site-packages (from matplotlib>=3.0.0->mlxtend) (21.3)\n",
      "Requirement already satisfied: fonttools>=4.22.0 in /usr/local/lib/python3.9/site-packages (from matplotlib>=3.0.0->mlxtend) (4.29.0)\n",
      "Requirement already satisfied: pytz>=2020.1 in /usr/local/lib/python3.9/site-packages (from pandas>=0.24.2->mlxtend) (2021.1)\n",
      "Requirement already satisfied: threadpoolctl>=2.0.0 in /usr/local/lib/python3.9/site-packages (from scikit-learn>=0.20.3->mlxtend) (3.0.0)\n",
      "Requirement already satisfied: six>=1.5 in /usr/local/lib/python3.9/site-packages (from python-dateutil>=2.7->matplotlib>=3.0.0->mlxtend) (1.15.0)\n",
      "\u001b[33mWARNING: You are using pip version 21.3.1; however, version 22.0.3 is available.\n",
      "You should consider upgrading via the '/usr/local/opt/python@3.9/bin/python3.9 -m pip install --upgrade pip' command.\u001b[0m\n",
      "\u001b[33mDEPRECATION: Configuring installation scheme with distutils config files is deprecated and will no longer work in the near future. If you are using a Homebrew or Linuxbrew Python, please see discussion at https://github.com/Homebrew/homebrew-core/issues/76621\u001b[0m\n",
      "Requirement already satisfied: bokeh in /usr/local/lib/python3.9/site-packages (2.4.2)\n",
      "Requirement already satisfied: typing-extensions>=3.10.0 in /usr/local/lib/python3.9/site-packages (from bokeh) (3.10.0.2)\n",
      "Requirement already satisfied: packaging>=16.8 in /usr/local/lib/python3.9/site-packages (from bokeh) (21.3)\n",
      "Requirement already satisfied: PyYAML>=3.10 in /usr/local/lib/python3.9/site-packages (from bokeh) (5.4.1)\n",
      "Requirement already satisfied: tornado>=5.1 in /usr/local/lib/python3.9/site-packages (from bokeh) (6.1)\n",
      "Requirement already satisfied: Jinja2>=2.9 in /usr/local/lib/python3.9/site-packages (from bokeh) (3.0.3)\n",
      "Requirement already satisfied: numpy>=1.11.3 in /usr/local/lib/python3.9/site-packages (from bokeh) (1.21.4)\n",
      "Requirement already satisfied: pillow>=7.1.0 in /usr/local/lib/python3.9/site-packages (from bokeh) (9.0.0)\n",
      "Requirement already satisfied: MarkupSafe>=2.0 in /usr/local/lib/python3.9/site-packages (from Jinja2>=2.9->bokeh) (2.0.1)\n",
      "Requirement already satisfied: pyparsing!=3.0.5,>=2.0.2 in /usr/local/lib/python3.9/site-packages (from packaging>=16.8->bokeh) (2.4.7)\n",
      "\u001b[33mWARNING: You are using pip version 21.3.1; however, version 22.0.3 is available.\n",
      "You should consider upgrading via the '/usr/local/opt/python@3.9/bin/python3.9 -m pip install --upgrade pip' command.\u001b[0m\n",
      "\u001b[33mDEPRECATION: Configuring installation scheme with distutils config files is deprecated and will no longer work in the near future. If you are using a Homebrew or Linuxbrew Python, please see discussion at https://github.com/Homebrew/homebrew-core/issues/76621\u001b[0m\n",
      "Requirement already satisfied: pandas-bokeh in /usr/local/lib/python3.9/site-packages (0.5.5)\n",
      "Requirement already satisfied: bokeh>=2.0 in /usr/local/lib/python3.9/site-packages (from pandas-bokeh) (2.4.2)\n",
      "Requirement already satisfied: pandas>=0.22.0 in /usr/local/lib/python3.9/site-packages (from pandas-bokeh) (1.4.0)\n",
      "Requirement already satisfied: Jinja2>=2.9 in /usr/local/lib/python3.9/site-packages (from bokeh>=2.0->pandas-bokeh) (3.0.3)\n",
      "Requirement already satisfied: PyYAML>=3.10 in /usr/local/lib/python3.9/site-packages (from bokeh>=2.0->pandas-bokeh) (5.4.1)\n",
      "Requirement already satisfied: numpy>=1.11.3 in /usr/local/lib/python3.9/site-packages (from bokeh>=2.0->pandas-bokeh) (1.21.4)\n",
      "Requirement already satisfied: typing-extensions>=3.10.0 in /usr/local/lib/python3.9/site-packages (from bokeh>=2.0->pandas-bokeh) (3.10.0.2)\n",
      "Requirement already satisfied: packaging>=16.8 in /usr/local/lib/python3.9/site-packages (from bokeh>=2.0->pandas-bokeh) (21.3)\n",
      "Requirement already satisfied: pillow>=7.1.0 in /usr/local/lib/python3.9/site-packages (from bokeh>=2.0->pandas-bokeh) (9.0.0)\n",
      "Requirement already satisfied: tornado>=5.1 in /usr/local/lib/python3.9/site-packages (from bokeh>=2.0->pandas-bokeh) (6.1)\n",
      "Requirement already satisfied: pytz>=2020.1 in /usr/local/lib/python3.9/site-packages (from pandas>=0.22.0->pandas-bokeh) (2021.1)\n",
      "Requirement already satisfied: python-dateutil>=2.8.1 in /usr/local/lib/python3.9/site-packages (from pandas>=0.22.0->pandas-bokeh) (2.8.1)\n",
      "Requirement already satisfied: MarkupSafe>=2.0 in /usr/local/lib/python3.9/site-packages (from Jinja2>=2.9->bokeh>=2.0->pandas-bokeh) (2.0.1)\n",
      "Requirement already satisfied: pyparsing!=3.0.5,>=2.0.2 in /usr/local/lib/python3.9/site-packages (from packaging>=16.8->bokeh>=2.0->pandas-bokeh) (2.4.7)\n",
      "Requirement already satisfied: six>=1.5 in /usr/local/lib/python3.9/site-packages (from python-dateutil>=2.8.1->pandas>=0.22.0->pandas-bokeh) (1.15.0)\n",
      "\u001b[33mWARNING: You are using pip version 21.3.1; however, version 22.0.3 is available.\n",
      "You should consider upgrading via the '/usr/local/opt/python@3.9/bin/python3.9 -m pip install --upgrade pip' command.\u001b[0m\n"
     ]
    }
   ],
   "source": [
    "# Installing the required packages\n",
    "!pip3 install pandas\n",
    "!pip3 install sklearn\n",
    "!pip3 install seaborn\n",
    "!pip3 install mlxtend\n",
    "!pip3 install bokeh\n",
    "!pip3 install pandas-bokeh"
   ]
  },
  {
   "cell_type": "code",
   "execution_count": 38,
   "id": "5a85c169",
   "metadata": {},
   "outputs": [],
   "source": [
    "# Importing the required packages\n",
    "import pandas as pd\n",
    "from sklearn import preprocessing\n",
    "import matplotlib.pyplot as plt\n",
    "import seaborn as sns\n",
    "from mlxtend.plotting import plot_decision_regions\n",
    "from sklearn import preprocessing\n",
    "import numpy as np\n",
    "from sklearn.preprocessing import StandardScaler\n",
    "from sklearn.model_selection import train_test_split\n",
    "from sklearn.neighbors import KNeighborsClassifier\n",
    "import pickle\n",
    "from sklearn.model_selection import GridSearchCV\n",
    "from sklearn.metrics import confusion_matrix\n",
    "from sklearn.metrics import classification_report"
   ]
  },
  {
   "cell_type": "code",
   "execution_count": 3,
   "id": "d75472b2",
   "metadata": {},
   "outputs": [
    {
     "data": {
      "text/html": [
       "<div>\n",
       "<style scoped>\n",
       "    .dataframe tbody tr th:only-of-type {\n",
       "        vertical-align: middle;\n",
       "    }\n",
       "\n",
       "    .dataframe tbody tr th {\n",
       "        vertical-align: top;\n",
       "    }\n",
       "\n",
       "    .dataframe thead th {\n",
       "        text-align: right;\n",
       "    }\n",
       "</style>\n",
       "<table border=\"1\" class=\"dataframe\">\n",
       "  <thead>\n",
       "    <tr style=\"text-align: right;\">\n",
       "      <th></th>\n",
       "      <th>water_temperature</th>\n",
       "      <th>tds_level</th>\n",
       "      <th>ph_level</th>\n",
       "      <th>target</th>\n",
       "    </tr>\n",
       "  </thead>\n",
       "  <tbody>\n",
       "    <tr>\n",
       "      <th>0</th>\n",
       "      <td>18.20</td>\n",
       "      <td>751.0</td>\n",
       "      <td>9.3</td>\n",
       "      <td>25</td>\n",
       "    </tr>\n",
       "    <tr>\n",
       "      <th>1</th>\n",
       "      <td>26.92</td>\n",
       "      <td>689.0</td>\n",
       "      <td>7.2</td>\n",
       "      <td>7</td>\n",
       "    </tr>\n",
       "    <tr>\n",
       "      <th>2</th>\n",
       "      <td>18.65</td>\n",
       "      <td>557.0</td>\n",
       "      <td>7.0</td>\n",
       "      <td>22</td>\n",
       "    </tr>\n",
       "    <tr>\n",
       "      <th>3</th>\n",
       "      <td>27.70</td>\n",
       "      <td>818.0</td>\n",
       "      <td>5.8</td>\n",
       "      <td>9</td>\n",
       "    </tr>\n",
       "    <tr>\n",
       "      <th>4</th>\n",
       "      <td>14.86</td>\n",
       "      <td>958.0</td>\n",
       "      <td>4.5</td>\n",
       "      <td>11</td>\n",
       "    </tr>\n",
       "  </tbody>\n",
       "</table>\n",
       "</div>"
      ],
      "text/plain": [
       "   water_temperature  tds_level  ph_level  target\n",
       "0              18.20      751.0       9.3      25\n",
       "1              26.92      689.0       7.2       7\n",
       "2              18.65      557.0       7.0      22\n",
       "3              27.70      818.0       5.8       9\n",
       "4              14.86      958.0       4.5      11"
      ]
     },
     "execution_count": 3,
     "metadata": {},
     "output_type": "execute_result"
    }
   ],
   "source": [
    "# Loading the historical data\n",
    "df = pd.read_csv(\"knn_historical_data_202201302007.csv\",usecols=[\"water_temperature\",\"tds_level\",\"ph_level\",\"target\"])\n",
    "df.head()"
   ]
  },
  {
   "cell_type": "code",
   "execution_count": 18,
   "id": "2c531a60-dd62-47fc-9269-2544ea49b341",
   "metadata": {},
   "outputs": [
    {
     "data": {
      "text/plain": [
       "<AxesSubplot:xlabel='water_temperature'>"
      ]
     },
     "execution_count": 18,
     "metadata": {},
     "output_type": "execute_result"
    },
    {
     "data": {
      "image/png": "[encoded data removed]",
      "text/plain": [
       "<Figure size 432x288 with 1 Axes>"
      ]
     },
     "metadata": {
      "needs_background": "light"
     },
     "output_type": "display_data"
    }
   ],
   "source": [
    "# Visualizing the range of water temperature\n",
    "df[\"water_temperature\"].groupby((df[\"water_temperature\"]//1)*1).sum().plot.bar()"
   ]
  },
  {
   "cell_type": "code",
   "execution_count": 16,
   "id": "d0875b5d-5ff9-4bce-b6fb-d0f788702c64",
   "metadata": {},
   "outputs": [
    {
     "data": {
      "text/plain": [
       "<AxesSubplot:xlabel='tds_level'>"
      ]
     },
     "execution_count": 16,
     "metadata": {},
     "output_type": "execute_result"
    },
    {
     "data": {
      "image/png": "[encoded data removed]",
      "text/plain": [
       "<Figure size 432x288 with 1 Axes>"
      ]
     },
     "metadata": {
      "needs_background": "light"
     },
     "output_type": "display_data"
    }
   ],
   "source": [
    "# Visualizing the range of water tds level\n",
    "df[\"tds_level\"].groupby((df[\"tds_level\"]//50)*50).sum().plot.bar()"
   ]
  },
  {
   "cell_type": "code",
   "execution_count": 20,
   "id": "eda026ac-f171-4d85-9c60-c85718197c75",
   "metadata": {},
   "outputs": [
    {
     "data": {
      "text/plain": [
       "<AxesSubplot:xlabel='ph_level'>"
      ]
     },
     "execution_count": 20,
     "metadata": {},
     "output_type": "execute_result"
    },
    {
     "data": {
      "image/png": "[encoded data removed]",
      "text/plain": [
       "<Figure size 432x288 with 1 Axes>"
      ]
     },
     "metadata": {
      "needs_background": "light"
     },
     "output_type": "display_data"
    }
   ],
   "source": [
    "# Visualizing the range of water pH level\n",
    "df[\"ph_level\"].groupby((df[\"ph_level\"]//1)*1).sum().plot.bar()"
   ]
  },
  {
   "cell_type": "code",
   "execution_count": 21,
   "id": "9ccf1210-67dc-4636-b7dd-6883286da6fe",
   "metadata": {},
   "outputs": [
    {
     "data": {
      "text/plain": [
       "<AxesSubplot:xlabel='target'>"
      ]
     },
     "execution_count": 21,
     "metadata": {},
     "output_type": "execute_result"
    },
    {
     "data": {
      "image/png": "[encoded data removed]",
      "text/plain": [
       "<Figure size 432x288 with 1 Axes>"
      ]
     },
     "metadata": {
      "needs_background": "light"
     },
     "output_type": "display_data"
    }
   ],
   "source": [
    "# Visualizing the range of target levels\n",
    "df[\"target\"].groupby((df[\"target\"]//1)*1).sum().plot.bar()"
   ]
  },
  {
   "cell_type": "code",
   "execution_count": 24,
   "id": "663f7bfb",
   "metadata": {},
   "outputs": [],
   "source": [
    "# Scaling the data points\n",
    "ss = StandardScaler()\n",
    "X =  pd.DataFrame(ss.fit_transform(df.drop([\"target\"],axis = 1),),columns=['water_temperature', 'tds_level', 'ph_level'])\n",
    "y = df[\"target\"]"
   ]
  },
  {
   "cell_type": "code",
   "execution_count": 25,
   "id": "b29f03ed",
   "metadata": {},
   "outputs": [],
   "source": [
    "# Test Train split\n",
    "X_train,X_test,y_train,y_test = train_test_split(X,y,test_size=0.2,random_state=42, stratify=y)"
   ]
  },
  {
   "cell_type": "code",
   "execution_count": 26,
   "id": "896250a4",
   "metadata": {},
   "outputs": [],
   "source": [
    "# Fitting the knn model\n",
    "test_scores = []\n",
    "train_scores = []\n",
    "\n",
    "for i in range(1,20):\n",
    "    knn = KNeighborsClassifier(i)\n",
    "    knn.fit(X_train,y_train)\n",
    "    train_scores.append(knn.score(X_train,y_train))\n",
    "    test_scores.append(knn.score(X_test,y_test))"
   ]
  },
  {
   "cell_type": "code",
   "execution_count": 28,
   "id": "a4ce1464",
   "metadata": {},
   "outputs": [
    {
     "name": "stdout",
     "output_type": "stream",
     "text": [
      "Max train score 100.0 % and k = [1]\n"
     ]
    }
   ],
   "source": [
    "# Evaluating the k value on training dataset\n",
    "max_train_score = max(train_scores)\n",
    "train_scores_ind = [i for i, v in enumerate(train_scores) if v == max_train_score]\n",
    "print('Max train score {} % and k = {}'.format(max_train_score*100,list(map(lambda x: x+1, train_scores_ind))))"
   ]
  },
  {
   "cell_type": "code",
   "execution_count": 29,
   "id": "daa23e45",
   "metadata": {},
   "outputs": [
    {
     "name": "stdout",
     "output_type": "stream",
     "text": [
      "Max test score 90.4170363797693 % and k = [3, 5]\n"
     ]
    }
   ],
   "source": [
    "# Evaluating the k value on testing dataset\n",
    "max_test_score = max(test_scores)\n",
    "test_scores_ind = [i for i, v in enumerate(test_scores) if v == max_test_score]\n",
    "print('Max test score {} % and k = {}'.format(max_test_score*100,list(map(lambda x: x+1, test_scores_ind))))"
   ]
  },
  {
   "cell_type": "code",
   "execution_count": 30,
   "id": "eea37322",
   "metadata": {},
   "outputs": [
    {
     "name": "stderr",
     "output_type": "stream",
     "text": [
      "/usr/local/lib/python3.9/site-packages/seaborn/_decorators.py:36: FutureWarning: Pass the following variables as keyword args: x, y. From version 0.12, the only valid positional argument will be `data`, and passing other arguments without an explicit keyword will result in an error or misinterpretation.\n",
      "  warnings.warn(\n",
      "/usr/local/lib/python3.9/site-packages/seaborn/_decorators.py:36: FutureWarning: Pass the following variables as keyword args: x, y. From version 0.12, the only valid positional argument will be `data`, and passing other arguments without an explicit keyword will result in an error or misinterpretation.\n",
      "  warnings.warn(\n"
     ]
    },
    {
     "data": {
      "image/png": "[encoded data removed]",
      "text/plain": [
       "<Figure size 864x360 with 1 Axes>"
      ]
     },
     "metadata": {
      "needs_background": "light"
     },
     "output_type": "display_data"
    }
   ],
   "source": [
    "# Visulalizing the training an testting score\n",
    "plt.figure(figsize=(12,5))\n",
    "p = sns.lineplot(range(1,20),train_scores,marker='*',label='Train Score')\n",
    "p = sns.lineplot(range(1,20),test_scores,marker='o',label='Test Score')"
   ]
  },
  {
   "cell_type": "code",
   "execution_count": 31,
   "id": "3a28dfe3",
   "metadata": {},
   "outputs": [
    {
     "data": {
      "text/plain": [
       "0.904170363797693"
      ]
     },
     "execution_count": 31,
     "metadata": {},
     "output_type": "execute_result"
    }
   ],
   "source": [
    "# Setup a knn classifier with k = 5 neighbors\n",
    "knn = KNeighborsClassifier(5)\n",
    "knn.fit(X_train,y_train)\n",
    "knn.score(X_test,y_test)"
   ]
  },
  {
   "cell_type": "code",
   "execution_count": 32,
   "id": "9ed6906c",
   "metadata": {},
   "outputs": [],
   "source": [
    "# Saving the weights in pickle file\n",
    "knnPickle = open('knnpickle_file', 'wb')\n",
    "pickle.dump(knn, knnPickle)                      "
   ]
  },
  {
   "cell_type": "code",
   "execution_count": 33,
   "id": "3bc609bc",
   "metadata": {},
   "outputs": [],
   "source": [
    "# Load the model from disk\n",
    "loaded_model = pickle.load(open('knnpickle_file', 'rb'))\n",
    "result = loaded_model.predict(X_test)"
   ]
  },
  {
   "cell_type": "code",
   "execution_count": 35,
   "id": "1b67bedc",
   "metadata": {},
   "outputs": [],
   "source": [
    "# Evaluate the KNN model\n",
    "y_pred = knn.predict(X_test)\n",
    "confusion_matrix(y_test,y_pred)\n",
    "cross_tab_df = pd.crosstab(y_test, y_pred, rownames=['True'], colnames=['Predicted'], margins=True)"
   ]
  },
  {
   "cell_type": "code",
   "execution_count": 36,
   "id": "871f1489-74d0-44d9-9c1e-1814c137e32a",
   "metadata": {},
   "outputs": [],
   "source": [
    "# Saving confusion matrix to csv\n",
    "cross_tab_df.to_csv(\"confusion.csv\")"
   ]
  },
  {
   "cell_type": "code",
   "execution_count": 37,
   "id": "2b725c8f",
   "metadata": {},
   "outputs": [
    {
     "data": {
      "text/plain": [
       "Text(0.5, 15.0, 'Predicted label')"
      ]
     },
     "execution_count": 37,
     "metadata": {},
     "output_type": "execute_result"
    },
    {
     "data": {
      "image/png": "[encoded data removed]",
      "text/plain": [
       "<Figure size 432x288 with 2 Axes>"
      ]
     },
     "metadata": {
      "needs_background": "light"
     },
     "output_type": "display_data"
    }
   ],
   "source": [
    "# Ploting the confusion matrix\n",
    "y_pred = knn.predict(X_test)\n",
    "from sklearn import metrics\n",
    "cnf_matrix = metrics.confusion_matrix(y_test, y_pred)\n",
    "p = sns.heatmap(pd.DataFrame(cnf_matrix), annot=True, cmap=\"YlGnBu\" ,fmt='g')\n",
    "plt.title('Confusion matrix', y=1.1)\n",
    "plt.ylabel('Actual label')\n",
    "plt.xlabel('Predicted label')"
   ]
  },
  {
   "cell_type": "code",
   "execution_count": 41,
   "id": "c8aa8cf1",
   "metadata": {},
   "outputs": [
    {
     "name": "stdout",
     "output_type": "stream",
     "text": [
      "              precision    recall  f1-score   support\n",
      "\n",
      "           1       0.95      0.99      0.97       136\n",
      "           2       0.92      0.97      0.95        36\n",
      "           3       1.00      0.92      0.96        12\n",
      "           4       0.91      0.95      0.93        56\n",
      "           5       0.90      0.96      0.93        49\n",
      "           6       0.94      0.80      0.86        20\n",
      "           7       0.93      0.83      0.88        76\n",
      "           8       0.96      0.88      0.92        59\n",
      "           9       0.91      1.00      0.95        30\n",
      "          10       0.67      0.83      0.74        12\n",
      "          11       0.89      0.80      0.84        10\n",
      "          12       0.75      0.75      0.75         4\n",
      "          13       0.95      0.95      0.95        19\n",
      "          14       0.98      0.98      0.98       105\n",
      "          15       0.94      0.94      0.94        16\n",
      "          16       0.78      0.88      0.82        24\n",
      "          17       0.81      0.94      0.87        18\n",
      "          18       0.71      0.71      0.71         7\n",
      "          19       0.96      0.74      0.83        34\n",
      "          20       0.92      0.79      0.85        29\n",
      "          21       0.86      0.92      0.89        13\n",
      "          22       0.96      0.89      0.93        57\n",
      "          23       0.94      0.98      0.96        46\n",
      "          24       0.72      0.68      0.70        19\n",
      "          25       0.83      0.77      0.80        84\n",
      "          26       0.91      0.91      0.91        57\n",
      "          27       0.81      0.92      0.86        99\n",
      "\n",
      "    accuracy                           0.90      1127\n",
      "   macro avg       0.88      0.88      0.88      1127\n",
      "weighted avg       0.91      0.90      0.90      1127\n",
      "\n"
     ]
    }
   ],
   "source": [
    "# Generating classification report\n",
    "print(classification_report(y_test,y_pred))"
   ]
  },
  {
   "cell_type": "code",
   "execution_count": 42,
   "id": "fd7127a4",
   "metadata": {},
   "outputs": [
    {
     "name": "stdout",
     "output_type": "stream",
     "text": [
      "Best Score:0.8977817213842059\n",
      "Best Parameters: {'n_neighbors': 3}\n"
     ]
    }
   ],
   "source": [
    "# Performing Grid search\n",
    "param_grid = {'n_neighbors':np.arange(1,50)}\n",
    "knn = KNeighborsClassifier()\n",
    "knn_cv= GridSearchCV(knn,param_grid,cv=5)\n",
    "knn_cv.fit(X,y)\n",
    "\n",
    "print(\"Best Score:\" + str(knn_cv.best_score_))\n",
    "print(\"Best Parameters: \" + str(knn_cv.best_params_))"
   ]
  },
  {
   "cell_type": "code",
   "execution_count": 43,
   "id": "070daa0b",
   "metadata": {},
   "outputs": [
    {
     "name": "stdout",
     "output_type": "stream",
     "text": [
      "0.9569653948535937\n",
      "0.904170363797693\n"
     ]
    }
   ],
   "source": [
    "knn = KNeighborsClassifier(3)\n",
    "\n",
    "knn.fit(X_train,y_train)\n",
    "print(knn.score(X_train,y_train))\n",
    "print(knn.score(X_test,y_test))"
   ]
  },
  {
   "cell_type": "code",
   "execution_count": null,
   "id": "a19e4b3a-d8fb-4fe9-9e67-74d334b0bacc",
   "metadata": {},
   "outputs": [],
   "source": []
  }
 ],
 "metadata": {
  "kernelspec": {
   "display_name": "Python 3 (ipykernel)",
   "language": "python",
   "name": "python3"
  },
  "language_info": {
   "codemirror_mode": {
    "name": "ipython",
    "version": 3
   },
   "file_extension": ".py",
   "mimetype": "text/x-python",
   "name": "python",
   "nbconvert_exporter": "python",
   "pygments_lexer": "ipython3",
   "version": "3.9.10"
  }
 },
 "nbformat": 4,
 "nbformat_minor": 5
}
